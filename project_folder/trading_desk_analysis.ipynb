{
 "cells": [
  {
   "cell_type": "code",
   "execution_count": 1,
   "id": "6a2604d5",
   "metadata": {},
   "outputs": [
    {
     "name": "stdout",
     "output_type": "stream",
     "text": [
      "✅ Loaded derivatives.py and core libraries.\n"
     ]
    }
   ],
   "source": [
    "# ── Cell 1: Initialization & Imports ─────────────────────────────────\n",
    "# Enable auto-reload so changes to derivatives.py are picked up without restarting the kernel.\n",
    "%load_ext autoreload\n",
    "%autoreload 2\n",
    "\n",
    "# Standard libraries\n",
    "import datetime\n",
    "import numpy as np\n",
    "import pandas as pd\n",
    "import yfinance as yf\n",
    "\n",
    "# Import our option classes (with full Greeks) from derivatives.py\n",
    "from derivatives import EuropeanCall, AmericanPut, BarrierOption, BasketCall\n",
    "\n",
    "print(\"✅ Loaded derivatives.py and core libraries.\")\n"
   ]
  },
  {
   "cell_type": "code",
   "execution_count": 2,
   "id": "ed1aa02b",
   "metadata": {},
   "outputs": [
    {
     "name": "stdout",
     "output_type": "stream",
     "text": [
      "YF.download() has changed argument auto_adjust default to True\n",
      "Spots (S0): {'BHP.AX': 39.720001220703125, 'CBA.AX': 169.66000366210938, 'CSL.AX': 241.82000732421875, 'MQG.AX': 207.35000610351562, 'WDS.AX': 21.920000076293945, 'WES.AX': 82.55999755859375}\n",
      "Using flat risk-free rate r = 5.00%\n"
     ]
    }
   ],
   "source": [
    "# ── Cell 2: Spot Prices & Discount Function ─────────────────────────\n",
    "# Fetch ASX closing prices for our tickers on the trade date\n",
    "trade_date = \"2025-05-16\"\n",
    "next_day   = (pd.to_datetime(trade_date) + pd.Timedelta(days=1)).strftime(\"%Y-%m-%d\")\n",
    "\n",
    "tickers = [\"BHP.AX\", \"CBA.AX\", \"WES.AX\", \"CSL.AX\", \"WDS.AX\", \"MQG.AX\"]\n",
    "df_spot  = yf.download(tickers, start=trade_date, end=next_day, progress=False)[\"Close\"]\n",
    "S0       = df_spot.loc[trade_date].to_dict()  # spot prices dict\n",
    "\n",
    "# Define a flat-curve discount function (5% p.a.) as placeholder\n",
    "r        = 0.05\n",
    "discount = lambda t: np.exp(-r * t)\n",
    "\n",
    "print(\"Spots (S0):\", S0)\n",
    "print(f\"Using flat risk-free rate r = {r:.2%}\")\n"
   ]
  },
  {
   "cell_type": "code",
   "execution_count": 3,
   "id": "55ed0913",
   "metadata": {},
   "outputs": [
    {
     "name": "stdout",
     "output_type": "stream",
     "text": [
      "Realised vols (annualised):\n",
      "  BHP.AX : 22.78%\n",
      "  CBA.AX : 21.48%\n",
      "  CSL.AX : 19.12%\n",
      "  MQG.AX : 24.73%\n",
      "  WDS.AX : 28.90%\n",
      "  WES.AX : 20.72%\n"
     ]
    }
   ],
   "source": [
    "# ── Cell 3: Realised Volatility Calculation ─────────────────────────\n",
    "# Download 1 year of historical closes to compute realised vols\n",
    "hist = yf.download(tickers, end=trade_date, period=\"1y\", progress=False)[\"Close\"]\n",
    "rets = hist.pct_change().dropna()                # daily returns\n",
    "vol  = (rets.std() * np.sqrt(252)).to_dict()     # annualised vol σ√252\n",
    "\n",
    "print(\"Realised vols (annualised):\")\n",
    "for tkr, σ in vol.items():\n",
    "    print(f\"  {tkr:7s}: {σ:.2%}\")\n"
   ]
  },
  {
   "cell_type": "code",
   "execution_count": 4,
   "id": "5b49ffef",
   "metadata": {},
   "outputs": [
    {
     "name": "stdout",
     "output_type": "stream",
     "text": [
      "Basket portfolio delta: -245.1217049472211\n"
     ]
    },
    {
     "data": {
      "text/plain": [
       "[('BHP Euro Call',\n",
       "  np.float64(8.064656731137958),\n",
       "  np.float64(0.7147894855030756),\n",
       "  np.float64(-2.0223237365429725),\n",
       "  nan),\n",
       " ('CBA Am Put',\n",
       "  np.float64(12.402849177482635),\n",
       "  np.float64(-0.43537242288671507),\n",
       "  np.float64(-4.6397846493873285),\n",
       "  nan),\n",
       " ('WES Barrier',\n",
       "  np.float64(14.534481370971232),\n",
       "  np.float64(0.7667226159568941),\n",
       "  np.float64(-4.9408365419135425),\n",
       "  nan),\n",
       " ('Basket Call',\n",
       "  np.float64(4.966414292333557),\n",
       "  np.float64(-106.37646926023513),\n",
       "  np.float64(-38.909425323982084),\n",
       "  np.float64(379.8857142446632))]"
      ]
     },
     "execution_count": 4,
     "metadata": {},
     "output_type": "execute_result"
    }
   ],
   "source": [
    "# ── Cell 4: Instantiate Trades & Compute Greeks ──────────────────────\n",
    "\n",
    "import numpy as np\n",
    "import pandas as pd\n",
    "\n",
    "# Helper to compute year fraction between two dates\n",
    "def year_frac(start, end):\n",
    "    return (pd.to_datetime(end) - pd.to_datetime(start)).days / 365\n",
    "\n",
    "# 1) BHP European Call: K = 0.98 * spot, expiry = 15-Sep-2027\n",
    "T1  = year_frac(trade_date, \"2027-09-15\")\n",
    "bhp = EuropeanCall(\n",
    "    S0       = S0[\"BHP.AX\"],\n",
    "    K        = 0.98 * S0[\"BHP.AX\"],\n",
    "    T        = T1,\n",
    "    discount = discount,\n",
    "    sigma    = vol[\"BHP.AX\"]\n",
    ")\n",
    "\n",
    "# 2) CBA American Put: K = 170, expiry = 15-May-2026\n",
    "T2  = year_frac(trade_date, \"2026-05-15\")\n",
    "cba = AmericanPut(\n",
    "    S0       = S0[\"CBA.AX\"],\n",
    "    K        = 170.0,\n",
    "    T        = T2,\n",
    "    discount = discount,\n",
    "    sigma    = vol[\"CBA.AX\"]\n",
    ")\n",
    "\n",
    "# 3) WES Up-and-In Barrier Call: barrier=100, K=80, expiry=15-Sep-2027\n",
    "wes = BarrierOption(\n",
    "    S0       = S0[\"WES.AX\"],\n",
    "    K        = 80.0,\n",
    "    T        = T1,\n",
    "    discount = discount,\n",
    "    sigma    = vol[\"WES.AX\"],\n",
    "    barrier  = 100.0\n",
    ")\n",
    "\n",
    "# 4) Basket Call on [BHP, CSL, WDS, MQG]: K = 175, expiry = 17-Jul-2025\n",
    "T3     = year_frac(trade_date, \"2025-07-17\")\n",
    "tick4  = [\"BHP.AX\",\"CSL.AX\",\"WDS.AX\",\"MQG.AX\"]\n",
    "basket = BasketCall(\n",
    "    S0_list    = [S0[t] for t in tick4],\n",
    "    weights    = [0.10, 0.35, 0.15, 0.40],\n",
    "    K          = 175.0,\n",
    "    T          = T3,\n",
    "    discount   = discount,\n",
    "    sigma_list = [vol[t] for t in tick4],\n",
    "    corr       = np.identity(4),  # placeholder correlation\n",
    "    paths      = 50000\n",
    ")\n",
    "\n",
    "# Compute price, delta, theta, and vega (basket only) for each trade\n",
    "results = []\n",
    "for name, obj in [\n",
    "    (\"BHP Euro Call\", bhp),\n",
    "    (\"CBA Am Put\",    cba),\n",
    "    (\"WES Barrier\",   wes),\n",
    "    (\"Basket Call\",   basket)\n",
    "]:\n",
    "    price = obj.price()\n",
    "    delta = obj.delta()       # now returns the portfolio-level delta\n",
    "    theta = obj.theta()\n",
    "    vega  = getattr(obj, \"vega\", lambda: np.nan)()\n",
    "    results.append((name, price, delta, theta, vega))\n",
    "\n",
    "# Optionally, print out the basket's delta separately:\n",
    "print(\"Basket portfolio delta:\", basket.delta())\n",
    "\n",
    "results\n"
   ]
  },
  {
   "cell_type": "code",
   "execution_count": 5,
   "id": "ef8d201b",
   "metadata": {},
   "outputs": [
    {
     "data": {
      "text/html": [
       "<div>\n",
       "<style scoped>\n",
       "    .dataframe tbody tr th:only-of-type {\n",
       "        vertical-align: middle;\n",
       "    }\n",
       "\n",
       "    .dataframe tbody tr th {\n",
       "        vertical-align: top;\n",
       "    }\n",
       "\n",
       "    .dataframe thead th {\n",
       "        text-align: right;\n",
       "    }\n",
       "</style>\n",
       "<table border=\"1\" class=\"dataframe\">\n",
       "  <thead>\n",
       "    <tr style=\"text-align: right;\">\n",
       "      <th></th>\n",
       "      <th>Price</th>\n",
       "      <th>Delta</th>\n",
       "      <th>Theta</th>\n",
       "      <th>Vega</th>\n",
       "    </tr>\n",
       "    <tr>\n",
       "      <th>Trade</th>\n",
       "      <th></th>\n",
       "      <th></th>\n",
       "      <th></th>\n",
       "      <th></th>\n",
       "    </tr>\n",
       "  </thead>\n",
       "  <tbody>\n",
       "    <tr>\n",
       "      <th>BHP Euro Call</th>\n",
       "      <td>8.064657</td>\n",
       "      <td>0.714789</td>\n",
       "      <td>-2.022324</td>\n",
       "      <td>NaN</td>\n",
       "    </tr>\n",
       "    <tr>\n",
       "      <th>CBA Am Put</th>\n",
       "      <td>12.402849</td>\n",
       "      <td>-0.435372</td>\n",
       "      <td>-4.639785</td>\n",
       "      <td>NaN</td>\n",
       "    </tr>\n",
       "    <tr>\n",
       "      <th>WES Barrier</th>\n",
       "      <td>14.534481</td>\n",
       "      <td>0.766723</td>\n",
       "      <td>-4.940837</td>\n",
       "      <td>NaN</td>\n",
       "    </tr>\n",
       "    <tr>\n",
       "      <th>Basket Call</th>\n",
       "      <td>4.966414</td>\n",
       "      <td>-106.376469</td>\n",
       "      <td>-38.909425</td>\n",
       "      <td>379.885714</td>\n",
       "    </tr>\n",
       "  </tbody>\n",
       "</table>\n",
       "</div>"
      ],
      "text/plain": [
       "                   Price       Delta      Theta        Vega\n",
       "Trade                                                      \n",
       "BHP Euro Call   8.064657    0.714789  -2.022324         NaN\n",
       "CBA Am Put     12.402849   -0.435372  -4.639785         NaN\n",
       "WES Barrier    14.534481    0.766723  -4.940837         NaN\n",
       "Basket Call     4.966414 -106.376469 -38.909425  379.885714"
      ]
     },
     "execution_count": 5,
     "metadata": {},
     "output_type": "execute_result"
    }
   ],
   "source": [
    "# ── Cell 5: Results Summary ──────────────────────────────────────────\n",
    "# Assemble into a DataFrame for clear presentation\n",
    "import pandas as pd\n",
    "\n",
    "df = pd.DataFrame(results, columns=[\"Trade\", \"Price\", \"Delta\", \"Theta\", \"Vega\"]).set_index(\"Trade\")\n",
    "df\n"
   ]
  }
 ],
 "metadata": {
  "kernelspec": {
   "display_name": "Python 3",
   "language": "python",
   "name": "python3"
  },
  "language_info": {
   "codemirror_mode": {
    "name": "ipython",
    "version": 3
   },
   "file_extension": ".py",
   "mimetype": "text/x-python",
   "name": "python",
   "nbconvert_exporter": "python",
   "pygments_lexer": "ipython3",
   "version": "3.12.1"
  }
 },
 "nbformat": 4,
 "nbformat_minor": 5
}
