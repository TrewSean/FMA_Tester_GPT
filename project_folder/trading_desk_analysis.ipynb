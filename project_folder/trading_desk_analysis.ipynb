{
 "cells": [
  {
   "cell_type": "markdown",
   "id": "2667d3a0",
   "metadata": {},
   "source": [
    "# Exotic Derivatives Trading Desk Analysis\n",
    "\n",
    "**As of 16 May 2025**, we will:\n",
    "1. Fetch market data  \n",
    "2. Instantiate each of our four option classes  \n",
    "3. Price & (where available) compute delta  \n",
    "4. Summarize hedges for the combined portfolio  \n"
   ]
  },
  {
   "cell_type": "code",
   "execution_count": 1,
   "id": "8270cf22",
   "metadata": {},
   "outputs": [],
   "source": [
    "# Install needed packages (run this cell once)\n",
    "!pip install --quiet yfinance scipy"
   ]
  },
  {
   "cell_type": "code",
   "execution_count": 2,
   "id": "d84f27ac",
   "metadata": {},
   "outputs": [],
   "source": [
    "# Cell 2: imports and discount-factor setup\n",
    "import datetime\n",
    "import numpy as np\n",
    "import pandas as pd\n",
    "import yfinance as yf\n",
    "\n",
    "from derivatives import (\n",
    "    EuropeanCall,\n",
    "    AmericanPut,\n",
    "    UpAndInBarrierCall,\n",
    "    BasketCall\n",
    ")\n",
    "\n",
    "# Flat 4% risk-free curve → discount factor function\n",
    "r = 0.04\n",
    "discount = lambda T: np.exp(-r * T)\n"
   ]
  },
  {
   "cell_type": "code",
   "execution_count": 3,
   "id": "a9b2d6de",
   "metadata": {},
   "outputs": [
    {
     "name": "stdout",
     "output_type": "stream",
     "text": [
      "DF(0.5 y) = 0.9808973137225787\n",
      "DF(2 y)   = 0.931596963894417\n"
     ]
    }
   ],
   "source": [
    "# Cell 2.5: Yield‐curve bootstrapping\n",
    "\n",
    "import numpy as np\n",
    "from scipy.interpolate import interp1d\n",
    "\n",
    "# 1. Market tenors (years) and continuous zero rates (as decimals)\n",
    "tenors     = np.array([1/12, 3/12, 6/12, 1.0, 3.0, 5.0, 10.0, 15.0])\n",
    "zero_rates = np.array([\n",
    "    0.037994,  # 1 m\n",
    "    0.037990,  # 3 m\n",
    "    0.038575,  # 6 m\n",
    "    0.035670,  # 1 y\n",
    "    0.035185,  # 3 y\n",
    "    0.038823,  # 5 y\n",
    "    0.043145,  # 10 y\n",
    "    0.045320   # 15 y\n",
    "])\n",
    "\n",
    "# 2. Discount factors at those tenors\n",
    "discount_factors = np.exp(-zero_rates * tenors)\n",
    "\n",
    "# 3. Build a linear zero‐rate interpolator\n",
    "zero_interp = interp1d(\n",
    "    tenors,\n",
    "    zero_rates,\n",
    "    kind=\"linear\",\n",
    "    fill_value=\"extrapolate\",\n",
    "    assume_sorted=True\n",
    ")\n",
    "\n",
    "# 4. Override discount(T) to use the interpolated curve\n",
    "discount = lambda T: np.exp(-zero_interp(T) * T)\n",
    "\n",
    "# Quick check\n",
    "print(\"DF(0.5 y) =\", discount(0.5))\n",
    "print(\"DF(2 y)   =\", discount(2.0))\n"
   ]
  },
  {
   "cell_type": "code",
   "execution_count": 4,
   "id": "79dda4bf",
   "metadata": {},
   "outputs": [
    {
     "name": "stdout",
     "output_type": "stream",
     "text": [
      "YF.download() has changed argument auto_adjust default to True\n"
     ]
    },
    {
     "name": "stderr",
     "output_type": "stream",
     "text": [
      "[*********************100%***********************]  6 of 6 completed"
     ]
    },
    {
     "name": "stdout",
     "output_type": "stream",
     "text": [
      "Spot prices: {'BHP.AX': 39.720001220703125, 'CBA.AX': 169.66000366210938, 'CSL.AX': 241.82000732421875, 'MQG.AX': 207.35000610351562, 'WDS.AX': 21.920000076293945, 'WES.AX': 82.55999755859375}\n",
      "Flat r: 0.04\n"
     ]
    },
    {
     "name": "stderr",
     "output_type": "stream",
     "text": [
      "\n"
     ]
    }
   ],
   "source": [
    "# Cell 3: Market inputs as of 16 May 2025\n",
    "\n",
    "trade_date = \"2025-05-16\"\n",
    "next_day   = (\n",
    "    datetime.datetime.strptime(trade_date, \"%Y-%m-%d\")\n",
    "    + datetime.timedelta(days=1)\n",
    ").strftime(\"%Y-%m-%d\")\n",
    "\n",
    "tickers = [\"BHP.AX\",\"CBA.AX\",\"WES.AX\",\"CSL.AX\",\"WDS.AX\",\"MQG.AX\"]\n",
    "df = yf.download(tickers, start=trade_date, end=next_day)[\"Close\"]\n",
    "S0 = df.loc[trade_date].to_dict()\n",
    "\n",
    "\n",
    "print(\"Spot prices:\", S0)\n",
    "\n",
    "print(\"Flat r:\", r)\n"
   ]
  },
  {
   "cell_type": "code",
   "execution_count": 5,
   "id": "962644f3",
   "metadata": {},
   "outputs": [
    {
     "name": "stderr",
     "output_type": "stream",
     "text": [
      "[*********************100%***********************]  6 of 6 completed"
     ]
    },
    {
     "name": "stdout",
     "output_type": "stream",
     "text": [
      "Using 1y historical vols:\n",
      "  BHP.AX: 22.72%\n",
      "  CBA.AX: 21.46%\n",
      "  CSL.AX: 19.19%\n",
      "  MQG.AX: 24.65%\n",
      "  WDS.AX: 28.96%\n",
      "  WES.AX: 20.88%\n"
     ]
    },
    {
     "name": "stderr",
     "output_type": "stream",
     "text": [
      "\n"
     ]
    }
   ],
   "source": [
    "# Cell 3.1: Estimate 1-year historical daily vol (annualised)\n",
    "\n",
    "import numpy as np\n",
    "\n",
    "# Pull one year of daily closes up to 16 May 2025\n",
    "hist_start = (\n",
    "    datetime.datetime.strptime(trade_date, \"%Y-%m-%d\")\n",
    "    - datetime.timedelta(days=365)\n",
    ").strftime(\"%Y-%m-%d\")\n",
    "\n",
    "hist = yf.download(tickers, start=hist_start, end=trade_date)[\"Close\"]\n",
    "\n",
    "# Compute daily returns & annualise\n",
    "rets     = hist.pct_change().dropna()\n",
    "hist_vol = (rets.std() * np.sqrt(252)).to_dict()\n",
    "\n",
    "# Use these as your vol inputs\n",
    "vol = hist_vol\n",
    "\n",
    "# Quick check printout\n",
    "print(\"Using 1y historical vols:\")\n",
    "for t, v in vol.items():\n",
    "    print(f\"  {t}: {v:.2%}\")"
   ]
  },
  {
   "cell_type": "code",
   "execution_count": 6,
   "id": "df5c141a",
   "metadata": {},
   "outputs": [
    {
     "name": "stdout",
     "output_type": "stream",
     "text": [
      "BHP Call     → Price: 7.37, Δ: 0.6806\n",
      "CBA Put      → Price: 169.81, Δ: -0.0011\n",
      "WES Barrier  → Price: 14.52, Δ: 19.3251\n",
      "Basket Call  → Price: 0.59, Δ: 0.0811\n"
     ]
    }
   ],
   "source": [
    "# Cell 4: Instantiate & price\n",
    "\n",
    "# 1) BHP European Call\n",
    "T1         = (datetime.datetime(2027,9,15) - datetime.datetime(2025,5,16)).days/365\n",
    "bhp_call   = EuropeanCall(\n",
    "    S0       = S0[\"BHP.AX\"],\n",
    "    K        = 0.98 * S0[\"BHP.AX\"],\n",
    "    T        = T1,\n",
    "    discount = discount,\n",
    "    sigma    = vol[\"BHP.AX\"]\n",
    ")\n",
    "price_bhp, delta_bhp = bhp_call.price(), bhp_call.delta()\n",
    "\n",
    "# 2) CBA American Put\n",
    "T2        = (datetime.datetime(2026,5,15) - datetime.datetime(2025,5,16)).days/365\n",
    "cba_put   = AmericanPut(\n",
    "    S0       = S0[\"CBA.AX\"],\n",
    "    K        = 170.0,\n",
    "    T        = T2,\n",
    "    discount = discount,\n",
    "    sigma    = vol[\"CBA.AX\"]\n",
    ")\n",
    "price_cba, delta_cba = cba_put.price(), cba_put.delta()\n",
    "\n",
    "# 3) WES Up-and-In Barrier Call\n",
    "wes_bar   = UpAndInBarrierCall(\n",
    "    S0       = S0[\"WES.AX\"],\n",
    "    K        = 80.0,\n",
    "    T        = T1,\n",
    "    discount = discount,\n",
    "    sigma    = vol[\"WES.AX\"],\n",
    "    barrier  = 100.0\n",
    ")\n",
    "price_wes, delta_wes = wes_bar.price(), wes_bar.delta()\n",
    "\n",
    "# 4) Four-Stock Basket Call\n",
    "T3         = (datetime.datetime(2025,7,17) - datetime.datetime(2025,5,16)).days/365\n",
    "basket     = BasketCall(\n",
    "    S0_list    = [S0[t] for t in [\"BHP.AX\",\"CSL.AX\",\"WDS.AX\",\"MQG.AX\"]],\n",
    "    weights    = [0.10,0.35,0.15,0.40],\n",
    "    K          = 175.0,\n",
    "    T          = T3,\n",
    "    discount   = discount,\n",
    "    sigma_list = [vol[t] for t in [\"BHP.AX\",\"CSL.AX\",\"WDS.AX\",\"MQG.AX\"]]\n",
    ")\n",
    "price_bask, delta_bask = basket.price(), basket.delta()\n",
    "\n",
    "# Quick print\n",
    "print(f\"BHP Call     → Price: {price_bhp:.2f}, Δ: {delta_bhp:.4f}\")\n",
    "print(f\"CBA Put      → Price: {price_cba:.2f}, Δ: {delta_cba:.4f}\")\n",
    "print(f\"WES Barrier  → Price: {price_wes:.2f}, Δ: {delta_wes:.4f}\")\n",
    "print(f\"Basket Call  → Price: {price_bask:.2f}, Δ: {delta_bask:.4f}\")\n"
   ]
  },
  {
   "cell_type": "code",
   "execution_count": 7,
   "id": "fd19ff40",
   "metadata": {},
   "outputs": [
    {
     "name": "stdout",
     "output_type": "stream",
     "text": [
      "T_BHP (yrs):   2.3342\n",
      "T_CBA (yrs):   0.9973\n",
      "T_Basket (yrs):0.1699\n"
     ]
    }
   ],
   "source": [
    "# Cell 4.5: (Debug) verify time-to-expiry values\n",
    "print(f\"T_BHP (yrs):   {T1:.4f}\")\n",
    "print(f\"T_CBA (yrs):   {T2:.4f}\")\n",
    "print(f\"T_Basket (yrs):{T3:.4f}\")\n"
   ]
  },
  {
   "cell_type": "code",
   "execution_count": 8,
   "id": "4b3e8cf8",
   "metadata": {},
   "outputs": [
    {
     "data": {
      "text/html": [
       "<div>\n",
       "<style scoped>\n",
       "    .dataframe tbody tr th:only-of-type {\n",
       "        vertical-align: middle;\n",
       "    }\n",
       "\n",
       "    .dataframe tbody tr th {\n",
       "        vertical-align: top;\n",
       "    }\n",
       "\n",
       "    .dataframe thead th {\n",
       "        text-align: right;\n",
       "    }\n",
       "</style>\n",
       "<table border=\"1\" class=\"dataframe\">\n",
       "  <thead>\n",
       "    <tr style=\"text-align: right;\">\n",
       "      <th></th>\n",
       "      <th>Instrument</th>\n",
       "      <th>Price</th>\n",
       "      <th>Delta</th>\n",
       "      <th>Vega</th>\n",
       "      <th>Theta</th>\n",
       "    </tr>\n",
       "  </thead>\n",
       "  <tbody>\n",
       "    <tr>\n",
       "      <th>0</th>\n",
       "      <td>BHP Call</td>\n",
       "      <td>$7.37</td>\n",
       "      <td>0.68</td>\n",
       "      <td>21.68</td>\n",
       "      <td>-1.75</td>\n",
       "    </tr>\n",
       "    <tr>\n",
       "      <th>1</th>\n",
       "      <td>CBA Put</td>\n",
       "      <td>$169.81</td>\n",
       "      <td>-0.00</td>\n",
       "      <td>6.06</td>\n",
       "      <td>0.00</td>\n",
       "    </tr>\n",
       "    <tr>\n",
       "      <th>2</th>\n",
       "      <td>WES Barrier</td>\n",
       "      <td>$14.52</td>\n",
       "      <td>19.33</td>\n",
       "      <td>1199.20</td>\n",
       "      <td>66.31</td>\n",
       "    </tr>\n",
       "    <tr>\n",
       "      <th>3</th>\n",
       "      <td>Basket Call</td>\n",
       "      <td>$0.59</td>\n",
       "      <td>0.08</td>\n",
       "      <td>-62.13</td>\n",
       "      <td>0.14</td>\n",
       "    </tr>\n",
       "  </tbody>\n",
       "</table>\n",
       "</div>"
      ],
      "text/plain": [
       "    Instrument    Price  Delta     Vega  Theta\n",
       "0     BHP Call    $7.37   0.68    21.68  -1.75\n",
       "1      CBA Put  $169.81  -0.00     6.06   0.00\n",
       "2  WES Barrier   $14.52  19.33  1199.20  66.31\n",
       "3  Basket Call    $0.59   0.08   -62.13   0.14"
      ]
     },
     "execution_count": 8,
     "metadata": {},
     "output_type": "execute_result"
    }
   ],
   "source": [
    "# Cell 5: Build & format DataFrame of Price & Greeks safely\n",
    "\n",
    "import numpy as np\n",
    "import pandas as pd\n",
    "\n",
    "def safe_vega(opt):\n",
    "    \"\"\"Call opt.vega(), but return NaN if it fails (e.g. BasketCall).\"\"\"\n",
    "    try:\n",
    "        return opt.vega()\n",
    "    except Exception:\n",
    "        return np.nan\n",
    "\n",
    "# 1) Build raw Greeks table\n",
    "df_greeks = pd.DataFrame({\n",
    "    \"Instrument\": [\"BHP Call\", \"CBA Put\", \"WES Barrier\", \"Basket Call\"],\n",
    "    \"Price\":      [price_bhp, price_cba, price_wes, price_bask],\n",
    "    \"Delta\":      [delta_bhp, delta_cba, delta_wes, delta_bask],\n",
    "    \"Vega\": [\n",
    "    bhp_call.vega(),\n",
    "    cba_put.vega(),\n",
    "    wes_bar.vega(),\n",
    "    basket.vega()     # direct now that it exists\n",
    "],\n",
    "\n",
    "    \"Theta\":      [\n",
    "        bhp_call.theta(),\n",
    "        cba_put.theta(),\n",
    "        wes_bar.theta(),\n",
    "        basket.theta()\n",
    "    ]\n",
    "})\n",
    "\n",
    "# 2) Round all numeric columns to 2 decimals\n",
    "df_fmt = df_greeks.copy()\n",
    "for col in [\"Price\", \"Delta\", \"Vega\", \"Theta\"]:\n",
    "    df_fmt[col] = df_fmt[col].round(2)\n",
    "\n",
    "# 3) Format Price as currency\n",
    "df_fmt[\"Price\"] = df_fmt[\"Price\"].map(\"${:,.2f}\".format)\n",
    "\n",
    "# 4) Display\n",
    "df_fmt\n"
   ]
  },
  {
   "cell_type": "code",
   "execution_count": 9,
   "id": "95533206",
   "metadata": {},
   "outputs": [
    {
     "data": {
      "text/html": [
       "<div>\n",
       "<style scoped>\n",
       "    .dataframe tbody tr th:only-of-type {\n",
       "        vertical-align: middle;\n",
       "    }\n",
       "\n",
       "    .dataframe tbody tr th {\n",
       "        vertical-align: top;\n",
       "    }\n",
       "\n",
       "    .dataframe thead th {\n",
       "        text-align: right;\n",
       "    }\n",
       "</style>\n",
       "<table border=\"1\" class=\"dataframe\">\n",
       "  <thead>\n",
       "    <tr style=\"text-align: right;\">\n",
       "      <th></th>\n",
       "      <th>Instrument</th>\n",
       "      <th>Price</th>\n",
       "      <th>Delta</th>\n",
       "      <th>Vega</th>\n",
       "      <th>Theta</th>\n",
       "      <th>Hedge Qty</th>\n",
       "    </tr>\n",
       "  </thead>\n",
       "  <tbody>\n",
       "    <tr>\n",
       "      <th>0</th>\n",
       "      <td>BHP Call</td>\n",
       "      <td>$7.37</td>\n",
       "      <td>0.68</td>\n",
       "      <td>21.68</td>\n",
       "      <td>-1.75</td>\n",
       "      <td>-0.68</td>\n",
       "    </tr>\n",
       "    <tr>\n",
       "      <th>1</th>\n",
       "      <td>CBA Put</td>\n",
       "      <td>$169.81</td>\n",
       "      <td>-0.00</td>\n",
       "      <td>6.06</td>\n",
       "      <td>0.00</td>\n",
       "      <td>0.00</td>\n",
       "    </tr>\n",
       "    <tr>\n",
       "      <th>2</th>\n",
       "      <td>WES Barrier</td>\n",
       "      <td>$14.52</td>\n",
       "      <td>19.33</td>\n",
       "      <td>1199.20</td>\n",
       "      <td>66.31</td>\n",
       "      <td>-19.33</td>\n",
       "    </tr>\n",
       "    <tr>\n",
       "      <th>3</th>\n",
       "      <td>Basket Call</td>\n",
       "      <td>$0.59</td>\n",
       "      <td>0.08</td>\n",
       "      <td>-62.13</td>\n",
       "      <td>0.14</td>\n",
       "      <td>-0.08</td>\n",
       "    </tr>\n",
       "  </tbody>\n",
       "</table>\n",
       "</div>"
      ],
      "text/plain": [
       "    Instrument    Price  Delta     Vega  Theta  Hedge Qty\n",
       "0     BHP Call    $7.37   0.68    21.68  -1.75      -0.68\n",
       "1      CBA Put  $169.81  -0.00     6.06   0.00       0.00\n",
       "2  WES Barrier   $14.52  19.33  1199.20  66.31     -19.33\n",
       "3  Basket Call    $0.59   0.08   -62.13   0.14      -0.08"
      ]
     },
     "execution_count": 9,
     "metadata": {},
     "output_type": "execute_result"
    }
   ],
   "source": [
    "# Cell 6: Compute delta‐hedge quantities\n",
    "df_fmt[\"Hedge Qty\"] = -df_fmt[\"Delta\"]\n",
    "df_fmt\n"
   ]
  },
  {
   "cell_type": "code",
   "execution_count": 10,
   "id": "0ddf121d",
   "metadata": {},
   "outputs": [
    {
     "data": {
      "text/markdown": [
       "## Portfolio Hedge Summary\n",
       "\n",
       "- **BHP European Call**  \n",
       "  Price = **$7.37**, Δ = 0.68, Vega = 21.68, Theta = -1.75  \n",
       "  → Hedge by **selling** 0.68 shares of BHP per call.\n",
       "\n",
       "- **CBA American Put**  \n",
       "  Price = **$169.81**, Δ = -0.0, Vega = 6.06, Theta = 0.0  \n",
       "  → Hedge by **selling** 0.00 shares of CBA per put.\n",
       "\n",
       "- **WES Up-and-In Barrier Call**  \n",
       "  Price = **$14.52**, Δ = 19.33, Vega = 1199.2, Theta = 66.31  \n",
       "  → Hedge by **selling** 19.33 shares of WES per barrier call.\n",
       "\n",
       "- **Four-Stock Basket Call**  \n",
       "  Price = **$0.59**, Δ = 0.08, Vega = -62.13, Theta = 0.14  \n",
       "  → Hedge basket by trading each underlying:  \n",
       "    - **selling** 0.01 shares of BHP (weight 10%)  \n",
       "    - **selling** 0.03 shares of CSL (weight 35%)  \n",
       "    - **selling** 0.01 shares of WDS (weight 15%)  \n",
       "    - **selling** 0.03 shares of MQG (weight 40%)  \n"
      ],
      "text/plain": [
       "<IPython.core.display.Markdown object>"
      ]
     },
     "metadata": {},
     "output_type": "display_data"
    }
   ],
   "source": [
    "# Cell 7: Dynamic narrative summary with automated buy/sell logic\n",
    "from IPython.display import Markdown, display\n",
    "\n",
    "# Helper to choose action\n",
    "def action_str(qty):\n",
    "    return \"buying\" if qty > 0 else \"selling\"\n",
    "\n",
    "# Instrument metadata: (row_index, display_name, ticker, contract_type)\n",
    "legs = [\n",
    "    (0, \"BHP European Call\",        \"BHP\", \"call\"),\n",
    "    (1, \"CBA American Put\",         \"CBA\", \"put\"),\n",
    "    (2, \"WES Up-and-In Barrier Call\",\"WES\",\"barrier call\"),\n",
    "]\n",
    "\n",
    "text = \"## Portfolio Hedge Summary\\n\\n\"\n",
    "\n",
    "# Individual instruments\n",
    "for idx, name, ticker, ctype in legs:\n",
    "    price = df_fmt.loc[idx, \"Price\"]\n",
    "    delta = df_fmt.loc[idx, \"Delta\"]\n",
    "    vega  = df_fmt.loc[idx, \"Vega\"]\n",
    "    theta = df_fmt.loc[idx, \"Theta\"]\n",
    "    hqty  = df_fmt.loc[idx, \"Hedge Qty\"]\n",
    "    action = action_str(hqty)\n",
    "\n",
    "    text += (\n",
    "        f\"- **{name}**  \\n\"\n",
    "        f\"  Price = **{price}**, Δ = {delta}, Vega = {vega}, Theta = {theta}  \\n\"\n",
    "        f\"  → Hedge by **{action}** {abs(hqty):.2f} shares of {ticker} per {ctype}.\\n\\n\"\n",
    "    )\n",
    "\n",
    "# Basket leg\n",
    "basket_delta = df_fmt.loc[3, \"Delta\"]\n",
    "basket_hq    = df_fmt.loc[3, \"Hedge Qty\"]\n",
    "basket_price = df_fmt.loc[3, \"Price\"]\n",
    "basket_vega  = df_fmt.loc[3, \"Vega\"]\n",
    "basket_theta = df_fmt.loc[3, \"Theta\"]\n",
    "action_b    = action_str(basket_hq)\n",
    "\n",
    "text += (\n",
    "    f\"- **Four-Stock Basket Call**  \\n\"\n",
    "    f\"  Price = **{basket_price}**, Δ = {basket_delta}, Vega = {basket_vega}, Theta = {basket_theta}  \\n\"\n",
    "    f\"  → Hedge basket by trading each underlying:  \\n\"\n",
    ")\n",
    "\n",
    "# weights in same order as we built the basket\n",
    "weights = [0.10, 0.35, 0.15, 0.40]\n",
    "tickers = [\"BHP\", \"CSL\", \"WDS\", \"MQG\"]\n",
    "\n",
    "for w, t in zip(weights, tickers):\n",
    "    sub_qty   = w * basket_hq\n",
    "    sub_action= action_str(sub_qty)\n",
    "    text += f\"    - **{sub_action}** {abs(sub_qty):.2f} shares of {t} (weight {w*100:.0f}%)  \\n\"\n",
    "\n",
    "display(Markdown(text))\n"
   ]
  }
 ],
 "metadata": {
  "kernelspec": {
   "display_name": "Python 3",
   "language": "python",
   "name": "python3"
  },
  "language_info": {
   "codemirror_mode": {
    "name": "ipython",
    "version": 3
   },
   "file_extension": ".py",
   "mimetype": "text/x-python",
   "name": "python",
   "nbconvert_exporter": "python",
   "pygments_lexer": "ipython3",
   "version": "3.12.1"
  }
 },
 "nbformat": 4,
 "nbformat_minor": 5
}
