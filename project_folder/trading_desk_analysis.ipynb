{
 "cells": [
  {
   "cell_type": "markdown",
   "id": "2667d3a0",
   "metadata": {},
   "source": [
    "# Exotic Derivatives Trading Desk Analysis\n",
    "\n",
    "**As of 16 May 2025**, we will:\n",
    "1. Fetch market data  \n",
    "2. Instantiate each of our four option classes  \n",
    "3. Price & (where available) compute delta  \n",
    "4. Summarize hedges for the combined portfolio  \n"
   ]
  },
  {
   "cell_type": "code",
   "execution_count": 2,
   "id": "fc179583",
   "metadata": {},
   "outputs": [
    {
     "name": "stdout",
     "output_type": "stream",
     "text": [
      "\n",
      "\u001b[1m[\u001b[0m\u001b[34;49mnotice\u001b[0m\u001b[1;39;49m]\u001b[0m\u001b[39;49m A new release of pip is available: \u001b[0m\u001b[31;49m25.0.1\u001b[0m\u001b[39;49m -> \u001b[0m\u001b[32;49m25.1.1\u001b[0m\n",
      "\u001b[1m[\u001b[0m\u001b[34;49mnotice\u001b[0m\u001b[1;39;49m]\u001b[0m\u001b[39;49m To update, run: \u001b[0m\u001b[32;49mpython3 -m pip install --upgrade pip\u001b[0m\n"
     ]
    }
   ],
   "source": [
    "# Cell 1: install dependencies (run once)\n",
    "!pip install --quiet yfinance\n"
   ]
  },
  {
   "cell_type": "code",
   "execution_count": 3,
   "id": "bc9057e9",
   "metadata": {},
   "outputs": [],
   "source": [
    "# Cell 2: imports\n",
    "\n",
    "import datetime\n",
    "import numpy as np\n",
    "import yfinance as yf\n",
    "\n",
    "from derivatives import (\n",
    "    EuropeanCall,\n",
    "    AmericanPut,\n",
    "    UpAndInBarrierCall,\n",
    "    BasketCall\n",
    ")\n"
   ]
  },
  {
   "cell_type": "code",
   "execution_count": 8,
   "id": "4aa641bc",
   "metadata": {},
   "outputs": [
    {
     "name": "stderr",
     "output_type": "stream",
     "text": [
      "[                       0%                       ]"
     ]
    },
    {
     "name": "stderr",
     "output_type": "stream",
     "text": [
      "[*********************100%***********************]  6 of 6 completed"
     ]
    },
    {
     "name": "stdout",
     "output_type": "stream",
     "text": [
      "Spot prices as of 2025-05-16\n",
      "  BHP.AX: 39.72\n",
      "  CBA.AX: 169.66\n",
      "  CSL.AX: 241.82\n",
      "  MQG.AX: 207.35\n",
      "  WDS.AX: 21.92\n",
      "  WES.AX: 82.56\n",
      "Vols: {'BHP.AX': 0.25, 'CBA.AX': 0.22, 'WES.AX': 0.3, 'CSL.AX': 0.2, 'WDS.AX': 0.28, 'MQG.AX': 0.23}\n",
      "r: 0.04\n"
     ]
    },
    {
     "name": "stderr",
     "output_type": "stream",
     "text": [
      "\n"
     ]
    }
   ],
   "source": [
    "# Cell 3: Market inputs as of 2025-05-16\n",
    "import datetime\n",
    "import yfinance as yf\n",
    "\n",
    "# Define trade date and next day (end is exclusive in yf.download)\n",
    "trade_date = \"2025-05-16\"\n",
    "next_day  = (\n",
    "    datetime.datetime.strptime(trade_date, \"%Y-%m-%d\")\n",
    "    + datetime.timedelta(days=1)\n",
    ").strftime(\"%Y-%m-%d\")\n",
    "\n",
    "tickers = [\"BHP.AX\", \"CBA.AX\", \"WES.AX\", \"CSL.AX\", \"WDS.AX\", \"MQG.AX\"]\n",
    "\n",
    "# Download the two-day window and grab the 16th\n",
    "df = yf.download(tickers, start=trade_date, end=next_day)[\"Close\"]\n",
    "S0 = df.loc[trade_date].to_dict()\n",
    "\n",
    "# Example output to check\n",
    "print(\"Spot prices as of\", trade_date)\n",
    "for t, price in S0.items():\n",
    "    print(f\"  {t}: {price:.2f}\")\n",
    "\n",
    "# Implied vols (placeholders for now)\n",
    "vol = {\n",
    "    \"BHP.AX\": 0.25,\n",
    "    \"CBA.AX\": 0.22,\n",
    "    \"WES.AX\": 0.30,\n",
    "    \"CSL.AX\": 0.20,\n",
    "    \"WDS.AX\": 0.28,\n",
    "    \"MQG.AX\": 0.23\n",
    "}\n",
    "\n",
    "# Flat risk-free rate\n",
    "r = 0.04  # 4%\n",
    "\n",
    "print(\"Vols:\", vol)\n",
    "print(\"r:\", r)\n"
   ]
  },
  {
   "cell_type": "code",
   "execution_count": 9,
   "id": "7f95d213",
   "metadata": {},
   "outputs": [
    {
     "name": "stdout",
     "output_type": "stream",
     "text": [
      "BHP European Call  → Price: 8.07, Delta: 0.6873\n",
      "CBA American Put   → Price: 169.99\n",
      "WES Barrier Call   → Price: 19.57\n",
      "Basket Call        → Price: 0.20\n"
     ]
    }
   ],
   "source": [
    "# Cell 4: Instantiate & price each option\n",
    "\n",
    "import datetime\n",
    "from derivatives import EuropeanCall, AmericanPut, UpAndInBarrierCall, BasketCall\n",
    "\n",
    "# 1) European call on BHP (expiry 15 Sept 2027, strike = 98% spot)\n",
    "T1 = (datetime.datetime(2027, 9, 15) - datetime.datetime(2025, 5, 16)).days / 365\n",
    "bhp_call = EuropeanCall(\n",
    "    S0   = S0[\"BHP.AX\"],\n",
    "    K    = 0.98 * S0[\"BHP.AX\"],\n",
    "    T    = T1,\n",
    "    r    = r,\n",
    "    sigma= vol[\"BHP.AX\"]\n",
    ")\n",
    "price_bhp = bhp_call.price()\n",
    "delta_bhp = bhp_call.delta()\n",
    "\n",
    "# 2) American put on CBA (expiry 15 May 2026, strike = 170)\n",
    "T2 = (datetime.datetime(2026, 5, 15) - datetime.datetime(2025, 5, 16)).days / 365\n",
    "cba_put = AmericanPut(\n",
    "    S0   = S0[\"CBA.AX\"],\n",
    "    K    = 170.0,\n",
    "    T    = T2,\n",
    "    r    = r,\n",
    "    sigma= vol[\"CBA.AX\"]\n",
    ")\n",
    "price_cba = cba_put.price(steps=500)\n",
    "\n",
    "# 3) Up-and-in barrier call on WES (expiry same as BHP, strike=80, barrier=100)\n",
    "wes_barrier = UpAndInBarrierCall(\n",
    "    S0      = S0[\"WES.AX\"],\n",
    "    K       = 80.0,\n",
    "    T       = T1,\n",
    "    r       = r,\n",
    "    sigma   = vol[\"WES.AX\"],\n",
    "    barrier = 100.0\n",
    ")\n",
    "price_wes = wes_barrier.price(paths=10000, steps=252)\n",
    "\n",
    "# 4) European basket call on [BHP, CSL, WDS, MQG] (expiry 17 July 2025, strike=175)\n",
    "T3 = (datetime.datetime(2025, 7, 17) - datetime.datetime(2025, 5, 16)).days / 365\n",
    "tickers_basket = [\"BHP.AX\", \"CSL.AX\", \"WDS.AX\", \"MQG.AX\"]\n",
    "S_list    = [S0[t] for t in tickers_basket]\n",
    "sig_list  = [vol[t] for t in tickers_basket]\n",
    "weights   = [0.10, 0.35, 0.15, 0.40]\n",
    "\n",
    "basket = BasketCall(\n",
    "    S0_list    = S_list,\n",
    "    weights    = weights,\n",
    "    K          = 175.0,\n",
    "    T          = T3,\n",
    "    r          = r,\n",
    "    sigma_list = sig_list\n",
    ")\n",
    "price_basket = basket.price(paths=10000, steps=252)\n",
    "\n",
    "# Print results\n",
    "print(f\"BHP European Call  → Price: {price_bhp:.2f}, Delta: {delta_bhp:.4f}\")\n",
    "print(f\"CBA American Put   → Price: {price_cba:.2f}\")\n",
    "print(f\"WES Barrier Call   → Price: {price_wes:.2f}\")\n",
    "print(f\"Basket Call        → Price: {price_basket:.2f}\")"
   ]
  },
  {
   "cell_type": "markdown",
   "id": "915a2289",
   "metadata": {},
   "source": [
    "## Pricing & Hedge Summary\n",
    "\n",
    "Below are the prices and deltas (where available).\n"
   ]
  },
  {
   "cell_type": "code",
   "execution_count": 10,
   "id": "eb9feb8d",
   "metadata": {},
   "outputs": [
    {
     "data": {
      "text/html": [
       "<div>\n",
       "<style scoped>\n",
       "    .dataframe tbody tr th:only-of-type {\n",
       "        vertical-align: middle;\n",
       "    }\n",
       "\n",
       "    .dataframe tbody tr th {\n",
       "        vertical-align: top;\n",
       "    }\n",
       "\n",
       "    .dataframe thead th {\n",
       "        text-align: right;\n",
       "    }\n",
       "</style>\n",
       "<table border=\"1\" class=\"dataframe\">\n",
       "  <thead>\n",
       "    <tr style=\"text-align: right;\">\n",
       "      <th></th>\n",
       "      <th>Instrument</th>\n",
       "      <th>Price</th>\n",
       "      <th>Delta</th>\n",
       "    </tr>\n",
       "  </thead>\n",
       "  <tbody>\n",
       "    <tr>\n",
       "      <th>0</th>\n",
       "      <td>BHP European Call</td>\n",
       "      <td>8.071603</td>\n",
       "      <td>0.687339</td>\n",
       "    </tr>\n",
       "    <tr>\n",
       "      <th>1</th>\n",
       "      <td>CBA American Put</td>\n",
       "      <td>169.990826</td>\n",
       "      <td>NaN</td>\n",
       "    </tr>\n",
       "    <tr>\n",
       "      <th>2</th>\n",
       "      <td>WES Up-and-In Barrier Call</td>\n",
       "      <td>19.566606</td>\n",
       "      <td>NaN</td>\n",
       "    </tr>\n",
       "    <tr>\n",
       "      <th>3</th>\n",
       "      <td>Four-Stock Basket Call</td>\n",
       "      <td>0.196322</td>\n",
       "      <td>NaN</td>\n",
       "    </tr>\n",
       "  </tbody>\n",
       "</table>\n",
       "</div>"
      ],
      "text/plain": [
       "                   Instrument       Price     Delta\n",
       "0           BHP European Call    8.071603  0.687339\n",
       "1            CBA American Put  169.990826       NaN\n",
       "2  WES Up-and-In Barrier Call   19.566606       NaN\n",
       "3      Four-Stock Basket Call    0.196322       NaN"
      ]
     },
     "metadata": {},
     "output_type": "display_data"
    }
   ],
   "source": [
    "# Cell 5: Summary of prices & deltas\n",
    "import pandas as pd\n",
    "\n",
    "summary = pd.DataFrame({\n",
    "    \"Instrument\": [\n",
    "        \"BHP European Call\",\n",
    "        \"CBA American Put\",\n",
    "        \"WES Up-and-In Barrier Call\",\n",
    "        \"Four-Stock Basket Call\"\n",
    "    ],\n",
    "    \"Price\": [\n",
    "        price_bhp,\n",
    "        price_cba,\n",
    "        price_wes,\n",
    "        price_basket\n",
    "    ],\n",
    "    \"Delta\": [\n",
    "        delta_bhp,\n",
    "        None,     # we’ll compute this next\n",
    "        None,     # and this\n",
    "        None      # and this\n",
    "    ]\n",
    "})\n",
    "\n",
    "display(summary)\n"
   ]
  },
  {
   "cell_type": "markdown",
   "id": "dfbf011c",
   "metadata": {},
   "source": [
    "from here getting a bit lost in the sauce"
   ]
  },
  {
   "cell_type": "code",
   "execution_count": 11,
   "id": "8b6bef10",
   "metadata": {},
   "outputs": [
    {
     "data": {
      "text/html": [
       "<div>\n",
       "<style scoped>\n",
       "    .dataframe tbody tr th:only-of-type {\n",
       "        vertical-align: middle;\n",
       "    }\n",
       "\n",
       "    .dataframe tbody tr th {\n",
       "        vertical-align: top;\n",
       "    }\n",
       "\n",
       "    .dataframe thead th {\n",
       "        text-align: right;\n",
       "    }\n",
       "</style>\n",
       "<table border=\"1\" class=\"dataframe\">\n",
       "  <thead>\n",
       "    <tr style=\"text-align: right;\">\n",
       "      <th></th>\n",
       "      <th>Instrument</th>\n",
       "      <th>Price</th>\n",
       "      <th>Delta</th>\n",
       "    </tr>\n",
       "  </thead>\n",
       "  <tbody>\n",
       "    <tr>\n",
       "      <th>0</th>\n",
       "      <td>BHP European Call</td>\n",
       "      <td>8.071603</td>\n",
       "      <td>0.687339</td>\n",
       "    </tr>\n",
       "    <tr>\n",
       "      <th>1</th>\n",
       "      <td>CBA American Put</td>\n",
       "      <td>169.990826</td>\n",
       "      <td>-0.000054</td>\n",
       "    </tr>\n",
       "    <tr>\n",
       "      <th>2</th>\n",
       "      <td>WES Up-and-In Barrier Call</td>\n",
       "      <td>19.566606</td>\n",
       "      <td>1.223106</td>\n",
       "    </tr>\n",
       "    <tr>\n",
       "      <th>3</th>\n",
       "      <td>Four-Stock Basket Call</td>\n",
       "      <td>0.196322</td>\n",
       "      <td>0.131951</td>\n",
       "    </tr>\n",
       "  </tbody>\n",
       "</table>\n",
       "</div>"
      ],
      "text/plain": [
       "                   Instrument       Price     Delta\n",
       "0           BHP European Call    8.071603  0.687339\n",
       "1            CBA American Put  169.990826 -0.000054\n",
       "2  WES Up-and-In Barrier Call   19.566606  1.223106\n",
       "3      Four-Stock Basket Call    0.196322  0.131951"
      ]
     },
     "metadata": {},
     "output_type": "display_data"
    },
    {
     "name": "stdout",
     "output_type": "stream",
     "text": [
      "\n",
      "Basket deltas by stock: {'BHP.AX': np.float64(0.03215759097413797), 'CSL.AX': np.float64(0.1465066966928023), 'WDS.AX': np.float64(0.0659140661883176), 'MQG.AX': np.float64(0.16892784087184837)}\n"
     ]
    }
   ],
   "source": [
    "# Cell 6: Finite-difference deltas\n",
    "\n",
    "eps_cba = 0.01 * S0[\"CBA.AX\"]  # 1% bump\n",
    "put_up   = AmericanPut(S0[\"CBA.AX\"]+eps_cba, 170, T2, r, vol[\"CBA.AX\"]).price(steps=500)\n",
    "put_down = AmericanPut(S0[\"CBA.AX\"]-eps_cba, 170, T2, r, vol[\"CBA.AX\"]).price(steps=500)\n",
    "delta_cba = (put_up - put_down) / (2*eps_cba)\n",
    "\n",
    "eps_wes = 0.01 * S0[\"WES.AX\"]\n",
    "bic_up   = UpAndInBarrierCall(S0[\"WES.AX\"]+eps_wes, 80, T1, r, vol[\"WES.AX\"], barrier=100).price(paths=5000)\n",
    "bic_down = UpAndInBarrierCall(S0[\"WES.AX\"]-eps_wes, 80, T1, r, vol[\"WES.AX\"], barrier=100).price(paths=5000)\n",
    "delta_wes = (bic_up - bic_down) / (2*eps_wes)\n",
    "\n",
    "# For the basket, bump each underlying one at a time to get per-stock deltas:\n",
    "delta_basket = {}\n",
    "for i, ticker in enumerate([\"BHP.AX\",\"CSL.AX\",\"WDS.AX\",\"MQG.AX\"]):\n",
    "    eps_i = 0.01 * S0[ticker]\n",
    "    S_up = S_list.copy(); S_up[i] += eps_i\n",
    "    S_dn = S_list.copy(); S_dn[i] -= eps_i\n",
    "    bc_up = BasketCall(S_up, weights, 175, T3, r, sig_list).price(paths=5000)\n",
    "    bc_dn = BasketCall(S_dn, weights, 175, T3, r, sig_list).price(paths=5000)\n",
    "    delta_basket[ticker] = (bc_up - bc_dn) / (2*eps_i)\n",
    "\n",
    "# Update the summary table\n",
    "summary.loc[1, \"Delta\"] = delta_cba\n",
    "summary.loc[2, \"Delta\"] = delta_wes\n",
    "summary.loc[3, \"Delta\"] = sum(weights[i] * delta_basket[t] \n",
    "                                for i, t in enumerate([\"BHP.AX\",\"CSL.AX\",\"WDS.AX\",\"MQG.AX\"]))\n",
    "\n",
    "display(summary)\n",
    "print(\"\\nBasket deltas by stock:\", delta_basket)\n"
   ]
  },
  {
   "cell_type": "code",
   "execution_count": 12,
   "id": "12518246",
   "metadata": {},
   "outputs": [
    {
     "data": {
      "text/html": [
       "<div>\n",
       "<style scoped>\n",
       "    .dataframe tbody tr th:only-of-type {\n",
       "        vertical-align: middle;\n",
       "    }\n",
       "\n",
       "    .dataframe tbody tr th {\n",
       "        vertical-align: top;\n",
       "    }\n",
       "\n",
       "    .dataframe thead th {\n",
       "        text-align: right;\n",
       "    }\n",
       "</style>\n",
       "<table border=\"1\" class=\"dataframe\">\n",
       "  <thead>\n",
       "    <tr style=\"text-align: right;\">\n",
       "      <th></th>\n",
       "      <th>Instrument</th>\n",
       "      <th>Price</th>\n",
       "      <th>Delta</th>\n",
       "      <th>Hedge Qty</th>\n",
       "    </tr>\n",
       "  </thead>\n",
       "  <tbody>\n",
       "    <tr>\n",
       "      <th>0</th>\n",
       "      <td>BHP European Call</td>\n",
       "      <td>8.071603</td>\n",
       "      <td>0.687339</td>\n",
       "      <td>-0.687339</td>\n",
       "    </tr>\n",
       "    <tr>\n",
       "      <th>1</th>\n",
       "      <td>CBA American Put</td>\n",
       "      <td>169.990826</td>\n",
       "      <td>-0.000054</td>\n",
       "      <td>0.000054</td>\n",
       "    </tr>\n",
       "    <tr>\n",
       "      <th>2</th>\n",
       "      <td>WES Up-and-In Barrier Call</td>\n",
       "      <td>19.566606</td>\n",
       "      <td>1.223106</td>\n",
       "      <td>-1.223106</td>\n",
       "    </tr>\n",
       "    <tr>\n",
       "      <th>3</th>\n",
       "      <td>Four-Stock Basket Call</td>\n",
       "      <td>0.196322</td>\n",
       "      <td>0.131951</td>\n",
       "      <td>-0.131951</td>\n",
       "    </tr>\n",
       "  </tbody>\n",
       "</table>\n",
       "</div>"
      ],
      "text/plain": [
       "                   Instrument       Price     Delta  Hedge Qty\n",
       "0           BHP European Call    8.071603  0.687339  -0.687339\n",
       "1            CBA American Put  169.990826 -0.000054   0.000054\n",
       "2  WES Up-and-In Barrier Call   19.566606  1.223106  -1.223106\n",
       "3      Four-Stock Basket Call    0.196322  0.131951  -0.131951"
      ]
     },
     "metadata": {},
     "output_type": "display_data"
    }
   ],
   "source": [
    "# Cell 7: Compute hedge quantities (assume 1-option = 1-share notional)\n",
    "summary[\"Hedge Qty\"] = -summary[\"Delta\"]  # negative sign to offset exposure\n",
    "display(summary)\n"
   ]
  },
  {
   "cell_type": "markdown",
   "id": "e3158641",
   "metadata": {},
   "source": [
    "## Portfolio Hedge Summary\n",
    "\n",
    "As of 16 May 2025, our four‐instrument portfolio is priced and hedged as follows:\n",
    "\n",
    "| Instrument                         | Price     | Δ       | Hedge Qty            |\n",
    "|------------------------------------|----------:|--------:|----------------------|\n",
    "| **BHP European Call**              | \\$8.07    | 0.6873  | Sell 0.6873 shares BHP  |\n",
    "| **CBA American Put**               | \\$169.99  | –0.00005| Buy 0.00005 shares CBA |\n",
    "| **WES Up-and-In Barrier Call**     | \\$19.57   | 1.2231  | Sell 1.2231 shares WES  |\n",
    "| **Four-Stock Basket Call**         | \\$0.1963  | 0.1320  | Sell the basket as:   |\n",
    "| • BHP (10%)                        |           |         | 0.01320 shares BHP     |\n",
    "| • CSL (35%)                        |           |         | 0.04618 shares CSL     |\n",
    "| • WDS (15%)                        |           |         | 0.01979 shares WDS     |\n",
    "| • MQG (40%)                        |           |         | 0.05278 shares MQG     |\n",
    "\n",
    "---\n",
    "\n",
    "**Interpretation:**\n",
    "\n",
    "- **BHP Call**: You’re long 0.6873 Δ in BHP per call, so you’d **sell** ~0.69 shares of BHP to hedge each call contract.  \n",
    "- **CBA Put**: Δ≈0, so hedging is negligible.  \n",
    "- **WES Barrier Call**: You’re long 1.2231 Δ in WES per barrier call—**sell** ~1.22 shares of WES per contract.  \n",
    "- **Basket Call**: Total Δ=0.1320 per basket; implement by trading each underlying in the weights shown above.\n",
    "\n",
    "---\n",
    "\n",
    "### Next Steps & Enhancements\n",
    "\n",
    "1. **Greeks Expansion**: Add vega & theta for more comprehensive risk metrics.  \n",
    "2. **Curve Boot-strapping**: Replace the flat 4% rate with a full discount-curve from OIS/swap data.  \n",
    "3. **Unit Testing**: Write pytest routines to verify each class against benchmark values.  \n",
    "4. **Performance Tuning**: Increase Monte Carlo paths or vectorize loops for greater precision.  \n",
    "5. **Documentation**: Flesh out markdown narratives to justify model choices and data sources.\n",
    "\n",
    "This completes the end-to-end MVP: market data → pricing → delta hedging → clear trade instructions.  \n"
   ]
  }
 ],
 "metadata": {
  "kernelspec": {
   "display_name": "Python 3",
   "language": "python",
   "name": "python3"
  },
  "language_info": {
   "codemirror_mode": {
    "name": "ipython",
    "version": 3
   },
   "file_extension": ".py",
   "mimetype": "text/x-python",
   "name": "python",
   "nbconvert_exporter": "python",
   "pygments_lexer": "ipython3",
   "version": "3.12.1"
  }
 },
 "nbformat": 4,
 "nbformat_minor": 5
}
