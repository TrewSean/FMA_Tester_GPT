{
 "cells": [
  {
   "cell_type": "markdown",
   "id": "2667d3a0",
   "metadata": {},
   "source": [
    "# Exotic Derivatives Trading Desk Analysis\n",
    "\n",
    "**As of 16 May 2025**, we will:\n",
    "1. Fetch market data  \n",
    "2. Instantiate each of our four option classes  \n",
    "3. Price & (where available) compute delta  \n",
    "4. Summarize hedges for the combined portfolio  \n"
   ]
  },
  {
   "cell_type": "code",
   "execution_count": 1,
   "id": "8270cf22",
   "metadata": {},
   "outputs": [
    {
     "name": "stdout",
     "output_type": "stream",
     "text": [
      "\n",
      "\u001b[1m[\u001b[0m\u001b[34;49mnotice\u001b[0m\u001b[1;39;49m]\u001b[0m\u001b[39;49m A new release of pip is available: \u001b[0m\u001b[31;49m25.0.1\u001b[0m\u001b[39;49m -> \u001b[0m\u001b[32;49m25.1.1\u001b[0m\n",
      "\u001b[1m[\u001b[0m\u001b[34;49mnotice\u001b[0m\u001b[1;39;49m]\u001b[0m\u001b[39;49m To update, run: \u001b[0m\u001b[32;49mpython3 -m pip install --upgrade pip\u001b[0m\n"
     ]
    }
   ],
   "source": [
    "# Install needed packages (run this cell once)\n",
    "!pip install --quiet yfinance scipy"
   ]
  },
  {
   "cell_type": "code",
   "execution_count": 2,
   "id": "d84f27ac",
   "metadata": {},
   "outputs": [],
   "source": [
    "# Cell 2: imports and discount-factor setup\n",
    "import datetime\n",
    "import numpy as np\n",
    "import pandas as pd\n",
    "import yfinance as yf\n",
    "\n",
    "from derivatives import (\n",
    "    EuropeanCall,\n",
    "    AmericanPut,\n",
    "    UpAndInBarrierCall,\n",
    "    BasketCall\n",
    ")\n",
    "\n",
    "# Flat 4% risk-free curve → discount factor function\n",
    "r = 0.04\n",
    "discount = lambda T: np.exp(-r * T)\n"
   ]
  },
  {
   "cell_type": "code",
   "execution_count": 3,
   "id": "79dda4bf",
   "metadata": {},
   "outputs": [
    {
     "name": "stdout",
     "output_type": "stream",
     "text": [
      "YF.download() has changed argument auto_adjust default to True\n"
     ]
    },
    {
     "name": "stderr",
     "output_type": "stream",
     "text": [
      "[*********************100%***********************]  6 of 6 completed"
     ]
    },
    {
     "name": "stdout",
     "output_type": "stream",
     "text": [
      "Spot prices: {'BHP.AX': 39.720001220703125, 'CBA.AX': 169.66000366210938, 'CSL.AX': 241.82000732421875, 'MQG.AX': 207.35000610351562, 'WDS.AX': 21.920000076293945, 'WES.AX': 82.55999755859375}\n",
      "Volatilities: {'BHP.AX': 0.25, 'CBA.AX': 0.22, 'WES.AX': 0.3, 'CSL.AX': 0.2, 'WDS.AX': 0.28, 'MQG.AX': 0.23}\n",
      "Flat r: 0.04\n"
     ]
    },
    {
     "name": "stderr",
     "output_type": "stream",
     "text": [
      "\n"
     ]
    }
   ],
   "source": [
    "# Cell 3: Market inputs as of 16 May 2025\n",
    "\n",
    "trade_date = \"2025-05-16\"\n",
    "next_day   = (\n",
    "    datetime.datetime.strptime(trade_date, \"%Y-%m-%d\")\n",
    "    + datetime.timedelta(days=1)\n",
    ").strftime(\"%Y-%m-%d\")\n",
    "\n",
    "tickers = [\"BHP.AX\",\"CBA.AX\",\"WES.AX\",\"CSL.AX\",\"WDS.AX\",\"MQG.AX\"]\n",
    "df = yf.download(tickers, start=trade_date, end=next_day)[\"Close\"]\n",
    "S0 = df.loc[trade_date].to_dict()\n",
    "\n",
    "# Placeholder implied vols\n",
    "vol = {\n",
    "    \"BHP.AX\": 0.25,\n",
    "    \"CBA.AX\": 0.22,\n",
    "    \"WES.AX\": 0.30,\n",
    "    \"CSL.AX\": 0.20,\n",
    "    \"WDS.AX\": 0.28,\n",
    "    \"MQG.AX\": 0.23\n",
    "}\n",
    "\n",
    "print(\"Spot prices:\", S0)\n",
    "print(\"Volatilities:\", vol)\n",
    "print(\"Flat r:\", r)\n"
   ]
  },
  {
   "cell_type": "code",
   "execution_count": 4,
   "id": "df5c141a",
   "metadata": {},
   "outputs": [
    {
     "ename": "ValueError",
     "evalue": "operands could not be broadcast together with shapes (4,) (4,252) ",
     "output_type": "error",
     "traceback": [
      "\u001b[31m---------------------------------------------------------------------------\u001b[39m",
      "\u001b[31mValueError\u001b[39m                                Traceback (most recent call last)",
      "\u001b[36mCell\u001b[39m\u001b[36m \u001b[39m\u001b[32mIn[4]\u001b[39m\u001b[32m, line 46\u001b[39m\n\u001b[32m     37\u001b[39m T3         = (datetime.datetime(\u001b[32m2025\u001b[39m,\u001b[32m7\u001b[39m,\u001b[32m17\u001b[39m) - datetime.datetime(\u001b[32m2025\u001b[39m,\u001b[32m5\u001b[39m,\u001b[32m16\u001b[39m)).days/\u001b[32m365\u001b[39m\n\u001b[32m     38\u001b[39m basket     = BasketCall(\n\u001b[32m     39\u001b[39m     S0_list    = [S0[t] \u001b[38;5;28;01mfor\u001b[39;00m t \u001b[38;5;129;01min\u001b[39;00m [\u001b[33m\"\u001b[39m\u001b[33mBHP.AX\u001b[39m\u001b[33m\"\u001b[39m,\u001b[33m\"\u001b[39m\u001b[33mCSL.AX\u001b[39m\u001b[33m\"\u001b[39m,\u001b[33m\"\u001b[39m\u001b[33mWDS.AX\u001b[39m\u001b[33m\"\u001b[39m,\u001b[33m\"\u001b[39m\u001b[33mMQG.AX\u001b[39m\u001b[33m\"\u001b[39m]],\n\u001b[32m     40\u001b[39m     weights    = [\u001b[32m0.10\u001b[39m,\u001b[32m0.35\u001b[39m,\u001b[32m0.15\u001b[39m,\u001b[32m0.40\u001b[39m],\n\u001b[32m   (...)\u001b[39m\u001b[32m     44\u001b[39m     sigma_list = [vol[t] \u001b[38;5;28;01mfor\u001b[39;00m t \u001b[38;5;129;01min\u001b[39;00m [\u001b[33m\"\u001b[39m\u001b[33mBHP.AX\u001b[39m\u001b[33m\"\u001b[39m,\u001b[33m\"\u001b[39m\u001b[33mCSL.AX\u001b[39m\u001b[33m\"\u001b[39m,\u001b[33m\"\u001b[39m\u001b[33mWDS.AX\u001b[39m\u001b[33m\"\u001b[39m,\u001b[33m\"\u001b[39m\u001b[33mMQG.AX\u001b[39m\u001b[33m\"\u001b[39m]]\n\u001b[32m     45\u001b[39m )\n\u001b[32m---> \u001b[39m\u001b[32m46\u001b[39m price_bask, delta_bask = \u001b[43mbasket\u001b[49m\u001b[43m.\u001b[49m\u001b[43mprice\u001b[49m\u001b[43m(\u001b[49m\u001b[43m)\u001b[49m, basket.delta()\n\u001b[32m     48\u001b[39m \u001b[38;5;66;03m# Quick print\u001b[39;00m\n\u001b[32m     49\u001b[39m \u001b[38;5;28mprint\u001b[39m(\u001b[33mf\u001b[39m\u001b[33m\"\u001b[39m\u001b[33mBHP Call     → Price: \u001b[39m\u001b[38;5;132;01m{\u001b[39;00mprice_bhp\u001b[38;5;132;01m:\u001b[39;00m\u001b[33m.2f\u001b[39m\u001b[38;5;132;01m}\u001b[39;00m\u001b[33m, Δ: \u001b[39m\u001b[38;5;132;01m{\u001b[39;00mdelta_bhp\u001b[38;5;132;01m:\u001b[39;00m\u001b[33m.4f\u001b[39m\u001b[38;5;132;01m}\u001b[39;00m\u001b[33m\"\u001b[39m)\n",
      "\u001b[36mFile \u001b[39m\u001b[32m/workspaces/FMA_Tester_GPT/project_folder/derivatives.py:180\u001b[39m, in \u001b[36mBasketCall.price\u001b[39m\u001b[34m(self, steps, paths)\u001b[39m\n\u001b[32m    177\u001b[39m C = L @ Z\n\u001b[32m    178\u001b[39m S = np.tile(\u001b[38;5;28mself\u001b[39m.S0_list[:, \u001b[38;5;28;01mNone\u001b[39;00m], (\u001b[32m1\u001b[39m, steps))\n\u001b[32m    179\u001b[39m S *= np.exp(((-np.log(disc)/\u001b[38;5;28mself\u001b[39m.T) - \u001b[32m0.5\u001b[39m*\u001b[38;5;28mself\u001b[39m.sigma_list**\u001b[32m2\u001b[39m)*dt\n\u001b[32m--> \u001b[39m\u001b[32m180\u001b[39m             + \u001b[38;5;28;43mself\u001b[39;49m\u001b[43m.\u001b[49m\u001b[43msigma_list\u001b[49m\u001b[43m*\u001b[49m\u001b[43mnp\u001b[49m\u001b[43m.\u001b[49m\u001b[43msqrt\u001b[49m\u001b[43m(\u001b[49m\u001b[43mdt\u001b[49m\u001b[43m)\u001b[49m\u001b[43m*\u001b[49m\u001b[43mC\u001b[49m)\n\u001b[32m    181\u001b[39m ST = S[:, -\u001b[32m1\u001b[39m]\n\u001b[32m    182\u001b[39m pay.append(\u001b[38;5;28mmax\u001b[39m(\u001b[38;5;28mself\u001b[39m.weights.dot(ST) - \u001b[38;5;28mself\u001b[39m.K, \u001b[32m0\u001b[39m))\n",
      "\u001b[31mValueError\u001b[39m: operands could not be broadcast together with shapes (4,) (4,252) "
     ]
    }
   ],
   "source": [
    "# Cell 4: Instantiate & price\n",
    "\n",
    "# 1) BHP European Call\n",
    "T1         = (datetime.datetime(2027,9,15) - datetime.datetime(2025,5,16)).days/365\n",
    "bhp_call   = EuropeanCall(\n",
    "    S0       = S0[\"BHP.AX\"],\n",
    "    K        = 0.98 * S0[\"BHP.AX\"],\n",
    "    T        = T1,\n",
    "    discount = discount,\n",
    "    sigma    = vol[\"BHP.AX\"]\n",
    ")\n",
    "price_bhp, delta_bhp = bhp_call.price(), bhp_call.delta()\n",
    "\n",
    "# 2) CBA American Put\n",
    "T2        = (datetime.datetime(2026,5,15) - datetime.datetime(2025,5,16)).days/365\n",
    "cba_put   = AmericanPut(\n",
    "    S0       = S0[\"CBA.AX\"],\n",
    "    K        = 170.0,\n",
    "    T        = T2,\n",
    "    discount = discount,\n",
    "    sigma    = vol[\"CBA.AX\"]\n",
    ")\n",
    "price_cba, delta_cba = cba_put.price(), cba_put.delta()\n",
    "\n",
    "# 3) WES Up-and-In Barrier Call\n",
    "wes_bar   = UpAndInBarrierCall(\n",
    "    S0       = S0[\"WES.AX\"],\n",
    "    K        = 80.0,\n",
    "    T        = T1,\n",
    "    discount = discount,\n",
    "    sigma    = vol[\"WES.AX\"],\n",
    "    barrier  = 100.0\n",
    ")\n",
    "price_wes, delta_wes = wes_bar.price(), wes_bar.delta()\n",
    "\n",
    "# 4) Four-Stock Basket Call\n",
    "T3         = (datetime.datetime(2025,7,17) - datetime.datetime(2025,5,16)).days/365\n",
    "basket     = BasketCall(\n",
    "    S0_list    = [S0[t] for t in [\"BHP.AX\",\"CSL.AX\",\"WDS.AX\",\"MQG.AX\"]],\n",
    "    weights    = [0.10,0.35,0.15,0.40],\n",
    "    K          = 175.0,\n",
    "    T          = T3,\n",
    "    discount   = discount,\n",
    "    sigma_list = [vol[t] for t in [\"BHP.AX\",\"CSL.AX\",\"WDS.AX\",\"MQG.AX\"]]\n",
    ")\n",
    "price_bask, delta_bask = basket.price(), basket.delta()\n",
    "\n",
    "# Quick print\n",
    "print(f\"BHP Call     → Price: {price_bhp:.2f}, Δ: {delta_bhp:.4f}\")\n",
    "print(f\"CBA Put      → Price: {price_cba:.2f}, Δ: {delta_cba:.4f}\")\n",
    "print(f\"WES Barrier  → Price: {price_wes:.2f}, Δ: {delta_wes:.4f}\")\n",
    "print(f\"Basket Call  → Price: {price_bask:.2f}, Δ: {delta_bask:.4f}\")\n"
   ]
  }
 ],
 "metadata": {
  "kernelspec": {
   "display_name": "Python 3",
   "language": "python",
   "name": "python3"
  },
  "language_info": {
   "codemirror_mode": {
    "name": "ipython",
    "version": 3
   },
   "file_extension": ".py",
   "mimetype": "text/x-python",
   "name": "python",
   "nbconvert_exporter": "python",
   "pygments_lexer": "ipython3",
   "version": "3.12.1"
  }
 },
 "nbformat": 4,
 "nbformat_minor": 5
}
